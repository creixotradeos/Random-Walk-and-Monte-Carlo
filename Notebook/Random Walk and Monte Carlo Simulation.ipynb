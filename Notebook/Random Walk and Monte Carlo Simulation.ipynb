{
 "cells": [
  {
   "cell_type": "markdown",
   "metadata": {},
   "source": [
    "# Random Walk and Monte Carlo Simulation in Python"
   ]
  },
  {
   "cell_type": "markdown",
   "metadata": {},
   "source": [
    "# Objective : What is the longest random walk you can take so that on average you will end up n blocks or fewer from home?"
   ]
  },
  {
   "cell_type": "markdown",
   "metadata": {},
   "source": [
    "## First version function - Simple version"
   ]
  },
  {
   "cell_type": "code",
   "execution_count": 1,
   "metadata": {},
   "outputs": [],
   "source": [
    "#Import package\n",
    "import random\n",
    "import pandas as pd\n",
    "import numpy as np\n",
    "import matplotlib.pyplot as plt\n",
    "import scipy.stats as stats\n",
    "import statistics as st"
   ]
  },
  {
   "cell_type": "code",
   "execution_count": 2,
   "metadata": {},
   "outputs": [],
   "source": [
    "#Write function\n",
    "\n",
    "def random_walk(n):\n",
    "    \"\"\"Return coordinates after 'n' block of random walk\"\"\"\n",
    "    x = 0 # Initial position\n",
    "    y = 0 # Initial position\n",
    "    for i in range(n):\n",
    "        step = random.choice(['N','S','E','W'])\n",
    "        if step == 'N':\n",
    "            y = y + 1 # Take 1 block step to the north\n",
    "        elif step == 'S':\n",
    "            y = y - 1 # Take 1 block step to the south\n",
    "        elif step == 'E':\n",
    "            x = x + 1 # Take 1 block step to the east\n",
    "        else:\n",
    "            x = x - 1 # Take 1 block step to the west\n",
    "    return (x, y) # Return the coordinate as a tuple"
   ]
  },
  {
   "cell_type": "markdown",
   "metadata": {},
   "source": [
    "To test the random_walk function : take 25 random walks, each 10 blocks long.\n",
    "The distance from home is the sum of the x and y coordinate(absolute)"
   ]
  },
  {
   "cell_type": "code",
   "execution_count": 3,
   "metadata": {
    "scrolled": false
   },
   "outputs": [
    {
     "name": "stdout",
     "output_type": "stream",
     "text": [
      "(0, 2) Distance from home =  2\n",
      "(-3, -3) Distance from home =  6\n",
      "(0, 2) Distance from home =  2\n",
      "(2, 0) Distance from home =  2\n",
      "(-2, 2) Distance from home =  4\n",
      "(-3, 1) Distance from home =  4\n",
      "(0, 2) Distance from home =  2\n",
      "(-3, -1) Distance from home =  4\n",
      "(-2, -2) Distance from home =  4\n",
      "(1, -1) Distance from home =  2\n",
      "(1, -1) Distance from home =  2\n",
      "(4, 0) Distance from home =  4\n",
      "(2, -2) Distance from home =  4\n",
      "(0, -2) Distance from home =  2\n",
      "(2, -2) Distance from home =  4\n",
      "(3, -1) Distance from home =  4\n",
      "(1, 1) Distance from home =  2\n",
      "(-2, -4) Distance from home =  6\n",
      "(0, -2) Distance from home =  2\n",
      "(-2, 0) Distance from home =  2\n",
      "(-2, 2) Distance from home =  4\n",
      "(2, 0) Distance from home =  2\n",
      "(-4, -4) Distance from home =  8\n",
      "(0, -2) Distance from home =  2\n",
      "(-3, -1) Distance from home =  4\n"
     ]
    }
   ],
   "source": [
    "#Create Loop expressing the above statement\n",
    "for i in range(25): # 25 random walks\n",
    "    walk = random_walk(10) # insert the function of walking 10 blocks each session\n",
    "    print(walk, \"Distance from home = \", abs(walk[0])+abs(walk[1])) # Sum of the x and y coordinate"
   ]
  },
  {
   "cell_type": "markdown",
   "metadata": {},
   "source": [
    "## Second version function - Compact Version"
   ]
  },
  {
   "cell_type": "code",
   "execution_count": 4,
   "metadata": {},
   "outputs": [],
   "source": [
    "#Write function\n",
    "def random_walk_2(n):\n",
    "    \"\"\"Return coordinate after 'n' block random walks\"\"\"\n",
    "    x, y = 0, 0 # Intial coordinate position\n",
    "    for i in range(n):\n",
    "        (dx, dy) = random.choice([(0,1), (0,-1), (1,0), (-1,0)]) # dx difference in x and dy difference in y\n",
    "        x += dx\n",
    "        y += dy\n",
    "    return (x, y)"
   ]
  },
  {
   "cell_type": "markdown",
   "metadata": {},
   "source": [
    "To test the random_walk function : take 25 random walks, each 10 blocks long.\n",
    "The distance from home is the sum of the x and y coordinate(absolute)"
   ]
  },
  {
   "cell_type": "code",
   "execution_count": 5,
   "metadata": {
    "scrolled": false
   },
   "outputs": [
    {
     "name": "stdout",
     "output_type": "stream",
     "text": [
      "(-2, 0) Distance from home =  2\n",
      "(4, 0) Distance from home =  4\n",
      "(-1, 1) Distance from home =  2\n",
      "(0, 2) Distance from home =  2\n",
      "(0, 0) Distance from home =  0\n",
      "(2, 0) Distance from home =  2\n",
      "(1, -1) Distance from home =  2\n",
      "(-1, -1) Distance from home =  2\n",
      "(1, 1) Distance from home =  2\n",
      "(2, 0) Distance from home =  2\n",
      "(0, 4) Distance from home =  4\n",
      "(-1, 3) Distance from home =  4\n",
      "(1, 1) Distance from home =  2\n",
      "(-1, 1) Distance from home =  2\n",
      "(1, -1) Distance from home =  2\n",
      "(-1, 1) Distance from home =  2\n",
      "(4, -2) Distance from home =  6\n",
      "(0, -2) Distance from home =  2\n",
      "(-6, 2) Distance from home =  8\n",
      "(-1, 1) Distance from home =  2\n",
      "(-2, 2) Distance from home =  4\n",
      "(2, 0) Distance from home =  2\n",
      "(-1, 3) Distance from home =  4\n",
      "(4, 2) Distance from home =  6\n",
      "(-1, -1) Distance from home =  2\n"
     ]
    }
   ],
   "source": [
    "#Create Loop expressing the above statement\n",
    "random.seed(0)\n",
    "for i in range(25): # take 25 random walks\n",
    "    walk = random_walk_2(10) # 10 blocks each\n",
    "    print(walk, \"Distance from home = \", abs(walk[0])+abs(walk[1])) # the distance from the last position to home"
   ]
  },
  {
   "cell_type": "markdown",
   "metadata": {},
   "source": [
    "## Using Monte Carlo simulation, try to solve the objective"
   ]
  },
  {
   "cell_type": "markdown",
   "metadata": {},
   "source": [
    "Conduct thousand of random trials and compute the percentage of random walks that ends in short walk to home"
   ]
  },
  {
   "cell_type": "markdown",
   "metadata": {},
   "source": [
    "a. Therefore the longest random walk with highest chances on average (half stdev from the mean) to end up several blocks or fewer from home is:"
   ]
  },
  {
   "cell_type": "markdown",
   "metadata": {},
   "source": [
    "b. Therefore the longest random walk with highest chances on average (50% of the time) to end up several blocks or fewer from home is:"
   ]
  },
  {
   "cell_type": "code",
   "execution_count": 32,
   "metadata": {
    "scrolled": true
   },
   "outputs": [
    {
     "name": "stdout",
     "output_type": "stream",
     "text": [
      "Data are not normally distributed\n",
      "    Walk_length  Chance within walking distance\n",
      "11           12                           38.27\n",
      "\n"
     ]
    }
   ],
   "source": [
    "# For a\n",
    "random.seed(1)\n",
    "number_of_walks = 10000 # The how many trials/walks taken for the simulation\n",
    "blocks_limit = 2 # The how far blocks you can walk without transportation\n",
    "blocks_walked = 20 # The how many blocks taken for the simulation\n",
    "\n",
    "walk_calc = [] # Make a dataframe to store loop output\n",
    "\n",
    "for walk_length in range(1, blocks_walked+1): \n",
    "    no_transport = 0 # Number of walks 4 or fewer blocks from home - Counter\n",
    "    for i in range(number_of_walks): # Start of monte carlo simulation/loop\n",
    "        (x, y) = random_walk_2(walk_length) # The position of the random walk\n",
    "        distance = abs(x) + abs(y) # The distance of position to home\n",
    "        if distance <= blocks_limit: # If the distance is less than 4\n",
    "            no_transport += 1 # Add 1 to the Counter\n",
    "    no_transport_percentage = float(no_transport) / number_of_walks # The percentage of walks that requires no transport\n",
    "    # Stores the output in a list\n",
    "    walk_calc.append({'Walk_length': walk_length, 'Chance within walking distance': no_transport_percentage*100});   \n",
    "\n",
    "\"\"\"\n",
    "Since the word 'average' here is not exactly defined, the definition of the average here is defined as the arithmetic\n",
    "mean of the probability of all walking length to reach house without any kind of transportation\n",
    "\"\"\"    \n",
    "\n",
    "# Transform the output into dataframe object\n",
    "no_transport_walking = pd.DataFrame(walk_calc).copy()\n",
    "\n",
    "walk_prob = no_transport_walking['Chance within walking distance'] # Store the probability in walk_prob variable\n",
    "walk_prob_mean, walk_prob_pstd = walk_prob.mean(), st.pstdev(walk_prob) # Calculate the mean and population std of the output\n",
    "# Test if the output is normally distributed\n",
    "k, pvalue = stats.normaltest(no_transport_walking['Chance within walking distance']) \n",
    "\n",
    "n_halfstd = (0.33/2) * blocks_walked # How many n probability within 0.5 std\n",
    "if pvalue > 0.05:\n",
    "    # Filter walk_prob within 0.5 stdev from the mean\n",
    "    within_halfstd = no_transport_walking[\n",
    "        (no_transport_walking['Chance within walking distance'] <= (walk_prob_mean + 0.5*walk_prob_pstd)) \n",
    "        & (no_transport_walking['Chance within walking distance'] >= (walk_prob_mean - 0.5*walk_prob_pstd)) ]\n",
    "    print( within_halfstd.sort_values('Walk_length', ascending=False).head(n=1) )\n",
    "else:\n",
    "    print(\"Data are not normally distributed\")\n",
    "    # Filter n_halfstd closest value to the mean\n",
    "    closest_prob = no_transport_walking.iloc[(no_transport_walking['Chance within walking distance'] \n",
    "                                             - walk_prob_mean).abs().argsort()[:3]]\n",
    "    print( closest_prob.sort_values('Walk_length', ascending=False).head(n=1) )\n",
    "    print(\"\")"
   ]
  },
  {
   "cell_type": "code",
   "execution_count": 33,
   "metadata": {},
   "outputs": [
    {
     "data": {
      "text/html": [
       "<div>\n",
       "<style scoped>\n",
       "    .dataframe tbody tr th:only-of-type {\n",
       "        vertical-align: middle;\n",
       "    }\n",
       "\n",
       "    .dataframe tbody tr th {\n",
       "        vertical-align: top;\n",
       "    }\n",
       "\n",
       "    .dataframe thead th {\n",
       "        text-align: right;\n",
       "    }\n",
       "</style>\n",
       "<table border=\"1\" class=\"dataframe\">\n",
       "  <thead>\n",
       "    <tr style=\"text-align: right;\">\n",
       "      <th></th>\n",
       "      <th>Walk_length</th>\n",
       "      <th>Chance within walking distance</th>\n",
       "    </tr>\n",
       "  </thead>\n",
       "  <tbody>\n",
       "    <tr>\n",
       "      <td>0</td>\n",
       "      <td>1</td>\n",
       "      <td>100.00</td>\n",
       "    </tr>\n",
       "    <tr>\n",
       "      <td>1</td>\n",
       "      <td>2</td>\n",
       "      <td>100.00</td>\n",
       "    </tr>\n",
       "    <tr>\n",
       "      <td>2</td>\n",
       "      <td>3</td>\n",
       "      <td>56.57</td>\n",
       "    </tr>\n",
       "    <tr>\n",
       "      <td>3</td>\n",
       "      <td>4</td>\n",
       "      <td>77.45</td>\n",
       "    </tr>\n",
       "    <tr>\n",
       "      <td>5</td>\n",
       "      <td>6</td>\n",
       "      <td>61.11</td>\n",
       "    </tr>\n",
       "    <tr>\n",
       "      <td>7</td>\n",
       "      <td>8</td>\n",
       "      <td>50.67</td>\n",
       "    </tr>\n",
       "  </tbody>\n",
       "</table>\n",
       "</div>"
      ],
      "text/plain": [
       "   Walk_length  Chance within walking distance\n",
       "0            1                          100.00\n",
       "1            2                          100.00\n",
       "2            3                           56.57\n",
       "3            4                           77.45\n",
       "5            6                           61.11\n",
       "7            8                           50.67"
      ]
     },
     "execution_count": 33,
     "metadata": {},
     "output_type": "execute_result"
    }
   ],
   "source": [
    "#For b\n",
    "no_transport_walking[(no_transport_walking['Chance within walking distance'] > 50)]"
   ]
  }
 ],
 "metadata": {
  "kernelspec": {
   "display_name": "Python 3",
   "language": "python",
   "name": "python3"
  },
  "language_info": {
   "codemirror_mode": {
    "name": "ipython",
    "version": 3
   },
   "file_extension": ".py",
   "mimetype": "text/x-python",
   "name": "python",
   "nbconvert_exporter": "python",
   "pygments_lexer": "ipython3",
   "version": "3.7.4"
  }
 },
 "nbformat": 4,
 "nbformat_minor": 2
}
